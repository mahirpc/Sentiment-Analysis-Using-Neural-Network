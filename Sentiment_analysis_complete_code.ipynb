{
 "cells": [
  {
   "cell_type": "markdown",
   "id": "4403ab52",
   "metadata": {},
   "source": [
    "The goal of this notebook is to learn to use Neural Networks for text classification. The main goal is to understand how we can apply deep learning on raw text and what are the techniques behind it\n",
    "\n",
    "In this notebook I will train a shallow model with learning embeddings"
   ]
  },
  {
   "cell_type": "code",
   "execution_count": 1,
   "id": "d08f7cd7",
   "metadata": {},
   "outputs": [],
   "source": [
    "import numpy as np\n",
    "import pandas as pd\n",
    "import seaborn as sns\n",
    "import matplotlib.pyplot as plt\n",
    "import nltk\n",
    "import re,string,unicodedata\n",
    "from nltk.corpus import stopwords\n",
    "from nltk.stem.porter import PorterStemmer\n",
    "from wordcloud import WordCloud,STOPWORDS\n",
    "from nltk.stem import WordNetLemmatizer\n",
    "from nltk.tokenize import word_tokenize,sent_tokenize\n",
    "\n",
    "from numpy import array\n",
    "from numpy import asarray\n",
    "from numpy import zeros\n",
    "from keras.preprocessing.text import Tokenizer\n",
    "from tensorflow import keras\n",
    "from tensorflow.keras.preprocessing.sequence import pad_sequences\n",
    "from keras.layers import Flatten,MaxPooling1D\n",
    "from keras import callbacks\n",
    "from keras.models import Sequential,Model\n",
    "from keras.layers import Dense,Embedding,LSTM,Dropout,Bidirectional,GRU,Conv1D,MaxPooling1D,Input,GlobalAveragePooling1D\n",
    "import tensorflow as tf\n",
    "from sklearn.metrics import classification_report,confusion_matrix,accuracy_score,roc_auc_score,f1_score\n",
    "from sklearn.model_selection import train_test_split\n",
    "import gensim.models\n",
    "from tensorflow.keras.utils import plot_model"
   ]
  },
  {
   "cell_type": "code",
   "execution_count": 2,
   "id": "9b821115",
   "metadata": {},
   "outputs": [],
   "source": [
    "# read the dataset of csv extension to dataframe\n",
    "df = pd.read_csv(\"product_reviews.csv\")"
   ]
  },
  {
   "cell_type": "code",
   "execution_count": 3,
   "id": "1f26ffa0",
   "metadata": {},
   "outputs": [
    {
     "data": {
      "text/html": [
       "<div>\n",
       "<style scoped>\n",
       "    .dataframe tbody tr th:only-of-type {\n",
       "        vertical-align: middle;\n",
       "    }\n",
       "\n",
       "    .dataframe tbody tr th {\n",
       "        vertical-align: top;\n",
       "    }\n",
       "\n",
       "    .dataframe thead th {\n",
       "        text-align: right;\n",
       "    }\n",
       "</style>\n",
       "<table border=\"1\" class=\"dataframe\">\n",
       "  <thead>\n",
       "    <tr style=\"text-align: right;\">\n",
       "      <th></th>\n",
       "      <th>reviews.rating</th>\n",
       "      <th>reviews.text</th>\n",
       "    </tr>\n",
       "  </thead>\n",
       "  <tbody>\n",
       "    <tr>\n",
       "      <th>0</th>\n",
       "      <td>1</td>\n",
       "      <td>I read through the reviews on here before look...</td>\n",
       "    </tr>\n",
       "    <tr>\n",
       "      <th>1</th>\n",
       "      <td>1</td>\n",
       "      <td>My husband bought this gel for us. The gel cau...</td>\n",
       "    </tr>\n",
       "    <tr>\n",
       "      <th>2</th>\n",
       "      <td>1</td>\n",
       "      <td>My boyfriend and I bought this to spice things...</td>\n",
       "    </tr>\n",
       "    <tr>\n",
       "      <th>3</th>\n",
       "      <td>1</td>\n",
       "      <td>Bought this earlier today and was excited to c...</td>\n",
       "    </tr>\n",
       "    <tr>\n",
       "      <th>4</th>\n",
       "      <td>1</td>\n",
       "      <td>I bought this product for my husband and I to ...</td>\n",
       "    </tr>\n",
       "  </tbody>\n",
       "</table>\n",
       "</div>"
      ],
      "text/plain": [
       "   reviews.rating                                       reviews.text\n",
       "0               1  I read through the reviews on here before look...\n",
       "1               1  My husband bought this gel for us. The gel cau...\n",
       "2               1  My boyfriend and I bought this to spice things...\n",
       "3               1  Bought this earlier today and was excited to c...\n",
       "4               1  I bought this product for my husband and I to ..."
      ]
     },
     "execution_count": 3,
     "metadata": {},
     "output_type": "execute_result"
    }
   ],
   "source": [
    "# Understanding the dataset\n",
    "df.head(5)"
   ]
  },
  {
   "cell_type": "code",
   "execution_count": 4,
   "id": "7fdb94f7",
   "metadata": {},
   "outputs": [
    {
     "data": {
      "image/png": "[encoded data removed]",
      "text/plain": [
       "<Figure size 432x288 with 1 Axes>"
      ]
     },
     "metadata": {
      "needs_background": "light"
     },
     "output_type": "display_data"
    }
   ],
   "source": [
    "# Visualizing the data distribution according to rating\n",
    "plt.hist(df['reviews.rating'])\n",
    "plt.show()"
   ]
  },
  {
   "cell_type": "code",
   "execution_count": 5,
   "id": "a27ffb42",
   "metadata": {},
   "outputs": [
    {
     "name": "stdout",
     "output_type": "stream",
     "text": [
      "<class 'pandas.core.frame.DataFrame'>\n",
      "RangeIndex: 208434 entries, 0 to 208433\n",
      "Data columns (total 2 columns):\n",
      " #   Column          Non-Null Count   Dtype \n",
      "---  ------          --------------   ----- \n",
      " 0   reviews.rating  208434 non-null  int64 \n",
      " 1   reviews.text    208361 non-null  object\n",
      "dtypes: int64(1), object(1)\n",
      "memory usage: 3.2+ MB\n"
     ]
    }
   ],
   "source": [
    "df.info()"
   ]
  },
  {
   "cell_type": "code",
   "execution_count": 6,
   "id": "8bea1cb2",
   "metadata": {},
   "outputs": [
    {
     "data": {
      "text/html": [
       "<div>\n",
       "<style scoped>\n",
       "    .dataframe tbody tr th:only-of-type {\n",
       "        vertical-align: middle;\n",
       "    }\n",
       "\n",
       "    .dataframe tbody tr th {\n",
       "        vertical-align: top;\n",
       "    }\n",
       "\n",
       "    .dataframe thead th {\n",
       "        text-align: right;\n",
       "    }\n",
       "</style>\n",
       "<table border=\"1\" class=\"dataframe\">\n",
       "  <thead>\n",
       "    <tr style=\"text-align: right;\">\n",
       "      <th></th>\n",
       "      <th>reviews.rating</th>\n",
       "    </tr>\n",
       "  </thead>\n",
       "  <tbody>\n",
       "    <tr>\n",
       "      <th>count</th>\n",
       "      <td>208434.000000</td>\n",
       "    </tr>\n",
       "    <tr>\n",
       "      <th>mean</th>\n",
       "      <td>2.731584</td>\n",
       "    </tr>\n",
       "    <tr>\n",
       "      <th>std</th>\n",
       "      <td>1.646777</td>\n",
       "    </tr>\n",
       "    <tr>\n",
       "      <th>min</th>\n",
       "      <td>1.000000</td>\n",
       "    </tr>\n",
       "    <tr>\n",
       "      <th>25%</th>\n",
       "      <td>1.000000</td>\n",
       "    </tr>\n",
       "    <tr>\n",
       "      <th>50%</th>\n",
       "      <td>2.000000</td>\n",
       "    </tr>\n",
       "    <tr>\n",
       "      <th>75%</th>\n",
       "      <td>4.000000</td>\n",
       "    </tr>\n",
       "    <tr>\n",
       "      <th>max</th>\n",
       "      <td>5.000000</td>\n",
       "    </tr>\n",
       "  </tbody>\n",
       "</table>\n",
       "</div>"
      ],
      "text/plain": [
       "       reviews.rating\n",
       "count   208434.000000\n",
       "mean         2.731584\n",
       "std          1.646777\n",
       "min          1.000000\n",
       "25%          1.000000\n",
       "50%          2.000000\n",
       "75%          4.000000\n",
       "max          5.000000"
      ]
     },
     "execution_count": 6,
     "metadata": {},
     "output_type": "execute_result"
    }
   ],
   "source": [
    "df.describe()"
   ]
  },
  {
   "cell_type": "code",
   "execution_count": 7,
   "id": "e21e5573",
   "metadata": {},
   "outputs": [],
   "source": [
    "# Adding a 'target' column such that rating : 4,5 is assigned to 0 and rating : 1,2,3 is assigned to 1\n",
    "df['target'] = [1 if i<4 else 0 for i in df['reviews.rating']] "
   ]
  },
  {
   "cell_type": "code",
   "execution_count": 8,
   "id": "bf7e5973",
   "metadata": {},
   "outputs": [
    {
     "data": {
      "text/html": [
       "<div>\n",
       "<style scoped>\n",
       "    .dataframe tbody tr th:only-of-type {\n",
       "        vertical-align: middle;\n",
       "    }\n",
       "\n",
       "    .dataframe tbody tr th {\n",
       "        vertical-align: top;\n",
       "    }\n",
       "\n",
       "    .dataframe thead th {\n",
       "        text-align: right;\n",
       "    }\n",
       "</style>\n",
       "<table border=\"1\" class=\"dataframe\">\n",
       "  <thead>\n",
       "    <tr style=\"text-align: right;\">\n",
       "      <th></th>\n",
       "      <th>reviews.rating</th>\n",
       "      <th>reviews.text</th>\n",
       "      <th>target</th>\n",
       "    </tr>\n",
       "  </thead>\n",
       "  <tbody>\n",
       "    <tr>\n",
       "      <th>0</th>\n",
       "      <td>1</td>\n",
       "      <td>I read through the reviews on here before look...</td>\n",
       "      <td>1</td>\n",
       "    </tr>\n",
       "    <tr>\n",
       "      <th>1</th>\n",
       "      <td>1</td>\n",
       "      <td>My husband bought this gel for us. The gel cau...</td>\n",
       "      <td>1</td>\n",
       "    </tr>\n",
       "    <tr>\n",
       "      <th>2</th>\n",
       "      <td>1</td>\n",
       "      <td>My boyfriend and I bought this to spice things...</td>\n",
       "      <td>1</td>\n",
       "    </tr>\n",
       "    <tr>\n",
       "      <th>3</th>\n",
       "      <td>1</td>\n",
       "      <td>Bought this earlier today and was excited to c...</td>\n",
       "      <td>1</td>\n",
       "    </tr>\n",
       "    <tr>\n",
       "      <th>4</th>\n",
       "      <td>1</td>\n",
       "      <td>I bought this product for my husband and I to ...</td>\n",
       "      <td>1</td>\n",
       "    </tr>\n",
       "  </tbody>\n",
       "</table>\n",
       "</div>"
      ],
      "text/plain": [
       "   reviews.rating                                       reviews.text  target\n",
       "0               1  I read through the reviews on here before look...       1\n",
       "1               1  My husband bought this gel for us. The gel cau...       1\n",
       "2               1  My boyfriend and I bought this to spice things...       1\n",
       "3               1  Bought this earlier today and was excited to c...       1\n",
       "4               1  I bought this product for my husband and I to ...       1"
      ]
     },
     "execution_count": 8,
     "metadata": {},
     "output_type": "execute_result"
    }
   ],
   "source": [
    "df.head(5)"
   ]
  },
  {
   "cell_type": "code",
   "execution_count": 9,
   "id": "008d0be1",
   "metadata": {},
   "outputs": [
    {
     "data": {
      "image/png": "[encoded data removed]",
      "text/plain": [
       "<Figure size 432x288 with 1 Axes>"
      ]
     },
     "metadata": {
      "needs_background": "light"
     },
     "output_type": "display_data"
    }
   ],
   "source": [
    "plt.hist(df['target'])\n",
    "plt.show()"
   ]
  },
  {
   "cell_type": "code",
   "execution_count": 10,
   "id": "d246b9eb",
   "metadata": {},
   "outputs": [
    {
     "data": {
      "text/plain": [
       "reviews.rating     0\n",
       "reviews.text      73\n",
       "target             0\n",
       "dtype: int64"
      ]
     },
     "execution_count": 10,
     "metadata": {},
     "output_type": "execute_result"
    }
   ],
   "source": [
    "# finding number of Nan values\n",
    "df.isna().sum()"
   ]
  },
  {
   "cell_type": "code",
   "execution_count": 11,
   "id": "7ba73ec7",
   "metadata": {
    "scrolled": true
   },
   "outputs": [
    {
     "data": {
      "text/plain": [
       "reviews.rating    0\n",
       "reviews.text      0\n",
       "target            0\n",
       "dtype: int64"
      ]
     },
     "execution_count": 11,
     "metadata": {},
     "output_type": "execute_result"
    }
   ],
   "source": [
    "# Dropping rows with Nan values\n",
    "df = df.dropna(axis=0)\n",
    "df.isna().sum()"
   ]
  },
  {
   "cell_type": "code",
   "execution_count": 12,
   "id": "65443533",
   "metadata": {},
   "outputs": [],
   "source": [
    "# Splitting data to features and labels\n",
    "x = df['reviews.text']\n",
    "y = df['target']"
   ]
  },
  {
   "cell_type": "markdown",
   "id": "06f89671",
   "metadata": {},
   "source": [
    "### Cleaning the texts. "
   ]
  },
  {
   "cell_type": "code",
   "execution_count": 13,
   "id": "d2b24db5",
   "metadata": {},
   "outputs": [],
   "source": [
    "stop = set(stopwords.words('english'))\n",
    "punctuation = list(string.punctuation)\n",
    "stop.update(punctuation)\n",
    "\n",
    "#Removing the stopwords from text\n",
    "def split_into_words(text):\n",
    "    # split into words by white space\n",
    "    words = text.split()\n",
    "    return words\n",
    "\n",
    "def to_lower_case(words):\n",
    "    # convert to lower case\n",
    "    words = [word.lower() for word in words]\n",
    "    return words\n",
    "\n",
    "def remove_punctuation(words):\n",
    "    # prepare regex for char filtering\n",
    "    # string.punctuation will return '!\"#$%&'()*+, -./:;<=>?@[\\]^_`{|}~'\n",
    "    re_punc = re.compile('[%s]' % re.escape(string.punctuation))\n",
    "    # re.escape() will return pattern object '\\d\\$' if input is 'd$'\n",
    "    # remove punctuation from each word\n",
    "    stripped = [re_punc.sub('', w) for w in words]\n",
    "    return stripped\n",
    "\n",
    "def keep_alphabetic(words):\n",
    "    # remove remaining tokens that are not alphabetic\n",
    "    words = [word for word in words if word.isalpha()]\n",
    "    return words\n",
    "\n",
    "def remove_stopwords(words):\n",
    "    # filter out stop words\n",
    "    stop_words = set(stopwords.words('english'))\n",
    "    words = [w for w in words if not w in stop_words]\n",
    "    return words\n",
    "\n",
    "def to_sentence(words):\n",
    "    # join words to a sentence\n",
    "    return ' '.join(words)\n",
    "\n",
    "#Removing the noisy text\n",
    "def denoise_text(text):\n",
    "    words = split_into_words(text)\n",
    "    words = to_lower_case(words)\n",
    "    words = remove_punctuation(words)\n",
    "    words = keep_alphabetic(words)\n",
    "    words = remove_stopwords(words)\n",
    "    return to_sentence(words)"
   ]
  },
  {
   "cell_type": "code",
   "execution_count": 14,
   "id": "6279af2a",
   "metadata": {},
   "outputs": [],
   "source": [
    "# Apply functions to clean sentences.\n",
    "x = x.apply(denoise_text)"
   ]
  },
  {
   "cell_type": "code",
   "execution_count": 15,
   "id": "babefec9",
   "metadata": {},
   "outputs": [
    {
     "name": "stdout",
     "output_type": "stream",
     "text": [
      "13\n"
     ]
    }
   ],
   "source": [
    "docs = x.values\n",
    "window_as_median_sentence_length = np.median([len(s.split()) for s in docs]).astype(int)\n",
    "print(window_as_median_sentence_length)"
   ]
  },
  {
   "cell_type": "code",
   "execution_count": 16,
   "id": "db76020a",
   "metadata": {},
   "outputs": [],
   "source": [
    "# splitting data for training and testing purposes.\n",
    "x_train, x_test, y_train, y_test = train_test_split(x,y,test_size = 0.2,random_state=123)"
   ]
  },
  {
   "cell_type": "markdown",
   "id": "66ad63b2",
   "metadata": {},
   "source": [
    "### Preprocessing text for the (supervised) CBOW model\n",
    "\n",
    "We will implement a simple classification model in Keras. Raw text requires (sometimes a lot of) preprocessing.\n",
    "\n",
    "The following cells uses Keras to preprocess text:\n",
    "- using a tokenizer. You may use different tokenizers (from scikit-learn, NLTK, custom Python function etc.). This converts the texts into sequences of indices representing the `40000` most frequent words\n",
    "- sequences have different lengths, so we pad them (add 0s at the end until the sequence is of length `50`)\n",
    "- we convert the output classes as 1-hot encodings"
   ]
  },
  {
   "cell_type": "markdown",
   "id": "a5d8dbb9",
   "metadata": {},
   "source": [
    "https://www.tensorflow.org/api_docs/python/tf/keras/preprocessing/text/Tokenizer"
   ]
  },
  {
   "cell_type": "code",
   "execution_count": 17,
   "id": "59b64ff8",
   "metadata": {
    "scrolled": true
   },
   "outputs": [
    {
     "name": "stdout",
     "output_type": "stream",
     "text": [
      "Found 69487 unique tokens.\n"
     ]
    }
   ],
   "source": [
    "MAX_NB_WORDS = 40000\n",
    "\n",
    "new_x_train = x_train.astype(str)\n",
    "new_x_test = x_test.astype(str)\n",
    "\n",
    "tokenizer = Tokenizer(num_words=MAX_NB_WORDS, char_level=False)\n",
    "\n",
    "# 'fit_on_texts' Updates internal vocabulary using 'new_x_train'\n",
    "tokenizer.fit_on_texts(new_x_train) \n",
    "\n",
    "# 'texts_to_sequences' transforms each text in 'new_x_train' to a sequence of integers(vector).\n",
    "sequences = tokenizer.texts_to_sequences(new_x_train)\n",
    "\n",
    "# 'texts_to_sequences' transforms each text in 'new_x_test' to a sequence of integers(vector).\n",
    "sequences_test = tokenizer.texts_to_sequences(new_x_test)\n",
    "\n",
    "word_index = tokenizer.word_index\n",
    "# 'word_index' is a dictionary of the form,  {'the': 1, 'i': 2, 'and': 3, etc...}\n",
    "print('Found %s unique tokens.' % len(word_index))"
   ]
  },
  {
   "cell_type": "code",
   "execution_count": 18,
   "id": "2df68e4e",
   "metadata": {
    "scrolled": true
   },
   "outputs": [
    {
     "name": "stdout",
     "output_type": "stream",
     "text": [
      "Maximum length: 2301\n"
     ]
    }
   ],
   "source": [
    "max_length = np.max([len(s.split()) for s in docs])\n",
    "print('Maximum length: %d' % max_length)"
   ]
  },
  {
   "cell_type": "markdown",
   "id": "285bfda7",
   "metadata": {
    "_cell_guid": "bd0b2cb3-6610-4fa0-adbd-091a0d1dc6eb",
    "_uuid": "2c9878139c2067013d32451c42a1453184d4671e"
   },
   "source": [
    "The tokenizer object stores a mapping (vocabulary) from word strings to token ids that can be inverted to reconstruct the original message (without formatting)"
   ]
  },
  {
   "cell_type": "code",
   "execution_count": 19,
   "id": "153890cd",
   "metadata": {
    "_cell_guid": "7ef9eff1-c75d-4bd1-b3e0-f104d7713f21",
    "_uuid": "49aa75fa45eb791b8e01d36fd60b9335323ced1a"
   },
   "outputs": [
    {
     "data": {
      "text/plain": [
       "(dict, 69487)"
      ]
     },
     "execution_count": 19,
     "metadata": {},
     "output_type": "execute_result"
    }
   ],
   "source": [
    "type(tokenizer.word_index), len(tokenizer.word_index)"
   ]
  },
  {
   "cell_type": "code",
   "execution_count": 20,
   "id": "49619ac0",
   "metadata": {
    "_cell_guid": "2bf28aad-c1c6-47d3-93c4-a3d01e83ef34",
    "_uuid": "34489f5781bed44791efccf10ff6be5fa45329f4"
   },
   "outputs": [],
   "source": [
    "index_to_word = dict((i, w) for w, i in tokenizer.word_index.items())\n",
    "# changing dict from {'the': 1, 'i': 2} form to {1 :'the', 2 :'i'} form , then can access \n",
    "# a word by 'index_to_word[i]' where i is 1,2,3,...,len(word_index)"
   ]
  },
  {
   "cell_type": "code",
   "execution_count": 21,
   "id": "b48f110c",
   "metadata": {},
   "outputs": [
    {
     "data": {
      "text/plain": [
       "[17, 169, 55, 169, 4, 323]"
      ]
     },
     "execution_count": 21,
     "metadata": {},
     "output_type": "execute_result"
    }
   ],
   "source": [
    "sequences[3]"
   ]
  },
  {
   "cell_type": "code",
   "execution_count": 22,
   "id": "2b94b6a5",
   "metadata": {
    "_cell_guid": "4cb9ba81-35eb-4599-95b6-c26b62ef2a27",
    "_uuid": "8e0d88c0b375eb8137857cdb07f0ecb8fa109ba7"
   },
   "outputs": [
    {
     "data": {
      "text/plain": [
       "'movie wasnt bad wasnt good either'"
      ]
     },
     "execution_count": 22,
     "metadata": {},
     "output_type": "execute_result"
    }
   ],
   "source": [
    "# we can re create 'ith' sentence by joing words from 'index_to_word' at \n",
    "# indexes taken from 'sequences[i]''\n",
    "\n",
    "\" \".join([index_to_word[i] for i in sequences[3]])"
   ]
  },
  {
   "cell_type": "markdown",
   "id": "a3bbe683",
   "metadata": {
    "_cell_guid": "95d36034-9567-414e-b335-100735eac55d",
    "_uuid": "00282f016c0cb0bb64da12e1b055c9963ed94fdd"
   },
   "source": [
    "Let's have a closer look at the tokenized sequences"
   ]
  },
  {
   "cell_type": "code",
   "execution_count": 23,
   "id": "f857ef80",
   "metadata": {
    "_cell_guid": "e4794fbb-def5-41a7-a115-c98b75723606",
    "_uuid": "a2b3fc16fd889000afc92cf6649c91b7dc486b3a"
   },
   "outputs": [
    {
     "name": "stdout",
     "output_type": "stream",
     "text": [
      "Average length of sentences : 22.4\n",
      "Length of large sentence : 1591\n"
     ]
    }
   ],
   "source": [
    "seq_lens = [len(s) for s in sequences]\n",
    "#seq_lens is a list holds length of every sentence.\n",
    "\n",
    "print(\"Average length of sentences : %0.1f\" % np.mean(seq_lens))\n",
    "print(\"Length of large sentence : {}\".format(max(seq_lens)))"
   ]
  },
  {
   "cell_type": "code",
   "execution_count": 24,
   "id": "2d491f47",
   "metadata": {
    "_cell_guid": "63dd3132-4bcf-43e1-82c6-71976490d76a",
    "_uuid": "59004cf05a78a14d6c6186d3b60a8eb7f6f8c4fa",
    "scrolled": true
   },
   "outputs": [
    {
     "data": {
      "image/png": "[encoded data removed]",
      "text/plain": [
       "<Figure size 432x288 with 1 Axes>"
      ]
     },
     "metadata": {
      "needs_background": "light"
     },
     "output_type": "display_data"
    }
   ],
   "source": [
    "plt.hist(seq_lens, bins=50) #'range=(min(seq_lens),max(seq_lens))' can also used to specify range\n",
    "plt.show()"
   ]
  },
  {
   "cell_type": "markdown",
   "id": "e45916b6",
   "metadata": {
    "_cell_guid": "c4d11a58-da34-4101-896b-bad856629ce3",
    "_uuid": "985e88716a7f4ab0c433fb412ba5ca520b4af2e9"
   },
   "source": [
    "\n",
    "Let's zoom on the distribution of regular sized posts. The vast majority of the posts have less than 200 symbols:"
   ]
  },
  {
   "cell_type": "code",
   "execution_count": 25,
   "id": "6e316b39",
   "metadata": {
    "_cell_guid": "2288dc93-eafe-488c-8533-aebc7e89000f",
    "_uuid": "f56919e05a5e81d3e4f5f505ff28e20150a46037"
   },
   "outputs": [
    {
     "data": {
      "image/png": "[encoded data removed]",
      "text/plain": [
       "<Figure size 432x288 with 1 Axes>"
      ]
     },
     "metadata": {
      "needs_background": "light"
     },
     "output_type": "display_data"
    }
   ],
   "source": [
    "plt.hist([l for l in seq_lens if l < 300], bins=70);"
   ]
  },
  {
   "cell_type": "markdown",
   "id": "ea61c406",
   "metadata": {},
   "source": [
    "Setting the length of every sequence to '50' sequence with length less than '50' will padded with zeros at the beginning of sequence or the vectorized text"
   ]
  },
  {
   "cell_type": "code",
   "execution_count": 26,
   "id": "12ae0cc8",
   "metadata": {},
   "outputs": [
    {
     "name": "stdout",
     "output_type": "stream",
     "text": [
      "Shape of data tensor : (166688, 50)\n",
      "Shape of data test tensor : (41673, 50)\n"
     ]
    }
   ],
   "source": [
    "MAX_SEQUENCE_LENGTH = 50\n",
    "\n",
    "# pad sequences with 0s\n",
    "x_train = pad_sequences(sequences, maxlen=MAX_SEQUENCE_LENGTH)\n",
    "x_test = pad_sequences(sequences_test, maxlen=MAX_SEQUENCE_LENGTH)\n",
    "print('Shape of data tensor :', x_train.shape)\n",
    "print('Shape of data test tensor :', x_test.shape)"
   ]
  },
  {
   "cell_type": "markdown",
   "id": "43d96b2b",
   "metadata": {},
   "source": [
    "### Using callbacks.EarlyStopping method to set conditions for early stopping to reduce overfitting"
   ]
  },
  {
   "cell_type": "code",
   "execution_count": 27,
   "id": "90ab7dee",
   "metadata": {},
   "outputs": [],
   "source": [
    "# Defining function for early stopping\n",
    "earlystopping = callbacks.EarlyStopping(monitor =\"val_loss\", \n",
    "                                        mode =\"min\", patience = 3, \n",
    "                                        restore_best_weights = True, verbose=1, )\n",
    "#setting size for embedding vector\n",
    "EMBEDDING_DIM = 100\n",
    "N_CLASSES = 1"
   ]
  },
  {
   "cell_type": "markdown",
   "id": "4c874d32",
   "metadata": {
    "_cell_guid": "bbf31f77-17dc-41ee-8eeb-0daa6048ab9a",
    "_uuid": "860856399379408e3f52d607cd4ff96cbde86edc"
   },
   "source": [
    "# A simple supervised CBOW model in Keras"
   ]
  },
  {
   "attachments": {
    "image.png": {
     "image/png": "[encoded data removed]"
    }
   },
   "cell_type": "markdown",
   "id": "6787ec50",
   "metadata": {
    "_uuid": "b664f7add892df86589c9eb902f01b78d32a6b4c"
   },
   "source": [
    "Vector space model is well known in information retrieval where each document is represented as a vector. The vector components represent weights or importance of each word in the document. The similarity between two documents is computed using the cosine similarity measure.\n",
    "\n",
    "![image.png](attachment:image.png)\n",
    "\n",
    "CBOW References :\n",
    "i) https://iksinc.online/tag/continuous-bag-of-words-cbow/\n",
    "ii) https://analyticsindiamag.com/the-continuous-bag-of-words-cbow-model-in-nlp-hands-on-implementation-with-codes/\n",
    "\n"
   ]
  },
  {
   "cell_type": "code",
   "execution_count": 28,
   "id": "fd4a55a9",
   "metadata": {
    "_cell_guid": "dae99403-c172-4a31-b9f4-cf1aa9eac5ba",
    "_uuid": "bc2b6cb8c623cc539734ccfa2e61677d77361809"
   },
   "outputs": [],
   "source": [
    "EMBEDDING_DIM = 100\n",
    "N_CLASSES = 1\n",
    "\n",
    "# input: a sequence of MAX_SEQUENCE_LENGTH integers\n",
    "sequence_input = Input(shape=(MAX_SEQUENCE_LENGTH,), dtype='int32')\n",
    "\n",
    "# 2nd layer\n",
    "embedding_layer = Embedding(MAX_NB_WORDS, EMBEDDING_DIM,\n",
    "                            input_length=MAX_SEQUENCE_LENGTH,\n",
    "                            trainable=True)\n",
    "# Linking input to 2nd layer\n",
    "embedded_sequences = embedding_layer(sequence_input)\n",
    "\n",
    "average = GlobalAveragePooling1D()(embedded_sequences)\n",
    "predictions = Dense(N_CLASSES, activation='sigmoid')(average)\n",
    "\n",
    "model = Model(sequence_input, predictions)\n",
    "model.compile(loss='binary_crossentropy',\\\n",
    "              optimizer='adam', metrics=['acc'])"
   ]
  },
  {
   "cell_type": "code",
   "execution_count": 29,
   "id": "ac88012e",
   "metadata": {
    "scrolled": true
   },
   "outputs": [
    {
     "name": "stdout",
     "output_type": "stream",
     "text": [
      "Model: \"model\"\n",
      "_________________________________________________________________\n",
      " Layer (type)                Output Shape              Param #   \n",
      "=================================================================\n",
      " input_1 (InputLayer)        [(None, 50)]              0         \n",
      "                                                                 \n",
      " embedding (Embedding)       (None, 50, 100)           4000000   \n",
      "                                                                 \n",
      " global_average_pooling1d (G  (None, 100)              0         \n",
      " lobalAveragePooling1D)                                          \n",
      "                                                                 \n",
      " dense (Dense)               (None, 1)                 101       \n",
      "                                                                 \n",
      "=================================================================\n",
      "Total params: 4,000,101\n",
      "Trainable params: 4,000,101\n",
      "Non-trainable params: 0\n",
      "_________________________________________________________________\n"
     ]
    }
   ],
   "source": [
    "model.summary() #to view the model details"
   ]
  },
  {
   "cell_type": "code",
   "execution_count": 30,
   "id": "d2a452f1",
   "metadata": {},
   "outputs": [
    {
     "data": {
      "image/png": "[encoded data removed]",
      "text/plain": [
       "<IPython.core.display.Image object>"
      ]
     },
     "execution_count": 30,
     "metadata": {},
     "output_type": "execute_result"
    }
   ],
   "source": [
    "#to plot the model\n",
    "tf.keras.utils.plot_model(model, \"cbow.png\", show_shapes=True)"
   ]
  },
  {
   "cell_type": "code",
   "execution_count": 31,
   "id": "90082044",
   "metadata": {
    "_cell_guid": "f82b7850-a692-4263-a558-bf8909267fae",
    "_uuid": "7b324bc4866808a74d924c1b67d65fe95c23790b",
    "scrolled": false
   },
   "outputs": [
    {
     "name": "stdout",
     "output_type": "stream",
     "text": [
      "Epoch 1/20\n",
      "1173/1173 [==============================] - 68s 57ms/step - loss: 0.4144 - acc: 0.8307 - val_loss: 0.3100 - val_acc: 0.8864\n",
      "Epoch 2/20\n",
      "1173/1173 [==============================] - 66s 56ms/step - loss: 0.2866 - acc: 0.8922 - val_loss: 0.2805 - val_acc: 0.8967\n",
      "Epoch 3/20\n",
      "1173/1173 [==============================] - 68s 58ms/step - loss: 0.2574 - acc: 0.9047 - val_loss: 0.2708 - val_acc: 0.9009\n",
      "Epoch 4/20\n",
      "1173/1173 [==============================] - 66s 56ms/step - loss: 0.2388 - acc: 0.9122 - val_loss: 0.2669 - val_acc: 0.8998\n",
      "Epoch 5/20\n",
      "1173/1173 [==============================] - 65s 56ms/step - loss: 0.2248 - acc: 0.9178 - val_loss: 0.2604 - val_acc: 0.9048\n",
      "Epoch 6/20\n",
      "1173/1173 [==============================] - 67s 57ms/step - loss: 0.2136 - acc: 0.9221 - val_loss: 0.2593 - val_acc: 0.9078\n",
      "Epoch 7/20\n",
      "1173/1173 [==============================] - 66s 57ms/step - loss: 0.2043 - acc: 0.9258 - val_loss: 0.2580 - val_acc: 0.9079\n",
      "Epoch 8/20\n",
      "1173/1173 [==============================] - 65s 56ms/step - loss: 0.1968 - acc: 0.9279 - val_loss: 0.2601 - val_acc: 0.9083\n",
      "Epoch 9/20\n",
      "1173/1173 [==============================] - 65s 56ms/step - loss: 0.1901 - acc: 0.9303 - val_loss: 0.2648 - val_acc: 0.9079\n",
      "Epoch 10/20\n",
      "1173/1173 [==============================] - ETA: 0s - loss: 0.1849 - acc: 0.9326Restoring model weights from the end of the best epoch: 7.\n",
      "1173/1173 [==============================] - 69s 58ms/step - loss: 0.1849 - acc: 0.9326 - val_loss: 0.2667 - val_acc: 0.9083\n",
      "Epoch 10: early stopping\n"
     ]
    }
   ],
   "source": [
    "reg_history = model.fit(x_train, y_train, validation_split=0.1,epochs =20,\\\n",
    "                        batch_size=128, callbacks =[earlystopping], verbose=1)"
   ]
  },
  {
   "cell_type": "code",
   "execution_count": 32,
   "id": "c064f013",
   "metadata": {
    "scrolled": true
   },
   "outputs": [
    {
     "name": "stdout",
     "output_type": "stream",
     "text": [
      "INFO:tensorflow:Assets written to: cbow1\\assets\n"
     ]
    }
   ],
   "source": [
    "#saving the model\n",
    "model.save('cbow1')"
   ]
  },
  {
   "cell_type": "code",
   "execution_count": 33,
   "id": "b8e23bee",
   "metadata": {},
   "outputs": [],
   "source": [
    "# Loading the model from saved location\n",
    "model = keras.models.load_model('cbow1')"
   ]
  },
  {
   "cell_type": "code",
   "execution_count": 34,
   "id": "009d1326",
   "metadata": {},
   "outputs": [
    {
     "name": "stdout",
     "output_type": "stream",
     "text": [
      "Train accuracy is : 0.9326218962669373\n",
      "Train loss is : 0.18494664132595062\n",
      "validation accuracy is : 0.9082728624343872\n",
      "Validation loss  is : 0.2666715085506439\n"
     ]
    }
   ],
   "source": [
    "print(\"Train accuracy is :\",reg_history.history['acc'][-1])\n",
    "print(\"Train loss is :\",reg_history.history['loss'][-1])\n",
    "print(\"validation accuracy is :\",reg_history.history['val_acc'][-1])\n",
    "print(\"Validation loss  is :\",reg_history.history['val_loss'][-1])"
   ]
  },
  {
   "cell_type": "code",
   "execution_count": 35,
   "id": "06447dcb",
   "metadata": {
    "_cell_guid": "ff6ef3c1-ff32-4bc9-b99d-29cee5df5c44",
    "_uuid": "205d2e2ac57282137bcebb833c98adeb7741ee39"
   },
   "outputs": [
    {
     "name": "stdout",
     "output_type": "stream",
     "text": [
      "1303/1303 [==============================] - 2s 1ms/step\n",
      "test auc: 0.9581853147403412\n"
     ]
    }
   ],
   "source": [
    "output_test = model.predict(x_test, verbose=1)\n",
    "\n",
    "# ROC_AUC: the Area Under the Curve (AUC) of the Receiver Operating Characteristic (ROC) curve\n",
    "print(\"test auc:\", roc_auc_score(y_test,output_test))"
   ]
  },
  {
   "cell_type": "code",
   "execution_count": 36,
   "id": "1f41cd7a",
   "metadata": {},
   "outputs": [
    {
     "name": "stdout",
     "output_type": "stream",
     "text": [
      "1303/1303 [==============================] - 2s 2ms/step - loss: 0.2705 - acc: 0.9028\n",
      "\n",
      "Test loss : 0.2704954445362091\n",
      "Test accuracy : 0.902766764163971\n"
     ]
    }
   ],
   "source": [
    "test_scores = model.evaluate(x_test, y_test, verbose=1)\n",
    "print(\"\\nTest loss :\", test_scores[0])\n",
    "print(\"Test accuracy :\", test_scores[1])"
   ]
  },
  {
   "cell_type": "code",
   "execution_count": 37,
   "id": "e7bc6c2a",
   "metadata": {},
   "outputs": [
    {
     "data": {
      "text/plain": [
       "array([[15589,  2113],\n",
       "       [ 1939, 22032]], dtype=int64)"
      ]
     },
     "execution_count": 37,
     "metadata": {},
     "output_type": "execute_result"
    }
   ],
   "source": [
    "# Confusion Matrix for test\n",
    "p_test = [1 if i>.5 else 0 for i in output_test[:]]\n",
    "cm_test = confusion_matrix(y_test,p_test)\n",
    "cm_test"
   ]
  },
  {
   "cell_type": "code",
   "execution_count": 38,
   "id": "79f91136",
   "metadata": {},
   "outputs": [
    {
     "data": {
      "text/plain": [
       "Text(33.0, 0.5, 'Actual')"
      ]
     },
     "execution_count": 38,
     "metadata": {},
     "output_type": "execute_result"
    },
    {
     "data": {
      "image/png": "[encoded data removed]",
      "text/plain": [
       "<Figure size 432x288 with 2 Axes>"
      ]
     },
     "metadata": {
      "needs_background": "light"
     },
     "output_type": "display_data"
    }
   ],
   "source": [
    "# Visualising Confusion matrix using heatmap form seaborn\n",
    "ax = sns.heatmap(cm_test,annot=True,xticklabels=['Satisfied','Unsatisfied'],yticklabels=['Satisfied','Unsatisfied'],fmt='g')\n",
    "ax.set_xlabel('Prediction')\n",
    "ax.set_ylabel('Actual')"
   ]
  },
  {
   "cell_type": "code",
   "execution_count": 39,
   "id": "c0a0ca6e",
   "metadata": {},
   "outputs": [
    {
     "name": "stdout",
     "output_type": "stream",
     "text": [
      "Test F1 score is :  0.9157868484495802\n"
     ]
    }
   ],
   "source": [
    "# F1 score\n",
    "\n",
    "print(\"Test F1 score is : \", f1_score(y_test,p_test))"
   ]
  },
  {
   "cell_type": "code",
   "execution_count": 40,
   "id": "5d3eddf2",
   "metadata": {},
   "outputs": [
    {
     "data": {
      "image/png": "[encoded data removed]",
      "text/plain": [
       "<Figure size 432x288 with 1 Axes>"
      ]
     },
     "metadata": {
      "needs_background": "light"
     },
     "output_type": "display_data"
    }
   ],
   "source": [
    "plt.plot(reg_history.history['acc'])\n",
    "plt.plot(reg_history.history['val_acc'])\n",
    "plt.title('Train History')\n",
    "plt.ylabel('accuracy')\n",
    "plt.xlabel('Epoch')\n",
    "plt.legend(['train', 'validation'], loc='upper left')\n",
    "plt.show()"
   ]
  },
  {
   "cell_type": "markdown",
   "id": "3573ec57",
   "metadata": {},
   "source": [
    "     "
   ]
  },
  {
   "cell_type": "markdown",
   "id": "434c1a6f",
   "metadata": {
    "_cell_guid": "3572e583-198b-494c-8c43-823e9b7f34bf",
    "_uuid": "a583664e72cefc80d6529e6bc304f9ba42de8e98"
   },
   "source": [
    "# A complex model : LSTM"
   ]
  },
  {
   "cell_type": "markdown",
   "id": "9735f727",
   "metadata": {
    "_uuid": "3041e72e34e168c4cbb21338e486075a696c995b"
   },
   "source": [
    "![](http://colah.github.io/posts/2015-08-Understanding-LSTMs/img/LSTM3-chain.png)\n",
    "\n",
    "image taken from : http://colah.github.io/posts/2015-08-Understanding-LSTMs/"
   ]
  },
  {
   "cell_type": "code",
   "execution_count": 41,
   "id": "5589bc51",
   "metadata": {
    "_cell_guid": "5b860f1c-eb10-4cb4-a696-d7f8827dbac5",
    "_uuid": "4f5411a7aebb322a0dbfe6d50112fc83b7285b0f"
   },
   "outputs": [],
   "source": [
    "# Using Functional API\n",
    "# input: a sequence of MAX_SEQUENCE_LENGTH integers\n",
    "sequence_input = Input(shape=(MAX_SEQUENCE_LENGTH,), dtype='int32')\n",
    "embedding_layer = Embedding(MAX_NB_WORDS, EMBEDDING_DIM,\n",
    "                            input_length=MAX_SEQUENCE_LENGTH,\n",
    "                            trainable=True)\n",
    "embedded_sequences = embedding_layer(sequence_input)\n",
    "\n",
    "x = LSTM(64, dropout=0.2, recurrent_dropout=0.2)(embedded_sequences)\n",
    "\n",
    "predictions = Dense(1, activation='sigmoid')(x)\n",
    "\n",
    "model = Model(sequence_input, predictions)       # previos 96 and 92 acc    and f1 : 93\n",
    "model.compile(loss='binary_crossentropy',\n",
    "              optimizer='adam',\n",
    "              metrics=['acc'])"
   ]
  },
  {
   "cell_type": "code",
   "execution_count": 42,
   "id": "eac4bdc1",
   "metadata": {},
   "outputs": [
    {
     "name": "stdout",
     "output_type": "stream",
     "text": [
      "Model: \"model_1\"\n",
      "_________________________________________________________________\n",
      " Layer (type)                Output Shape              Param #   \n",
      "=================================================================\n",
      " input_2 (InputLayer)        [(None, 50)]              0         \n",
      "                                                                 \n",
      " embedding_1 (Embedding)     (None, 50, 100)           4000000   \n",
      "                                                                 \n",
      " lstm (LSTM)                 (None, 64)                42240     \n",
      "                                                                 \n",
      " dense_1 (Dense)             (None, 1)                 65        \n",
      "                                                                 \n",
      "=================================================================\n",
      "Total params: 4,042,305\n",
      "Trainable params: 4,042,305\n",
      "Non-trainable params: 0\n",
      "_________________________________________________________________\n"
     ]
    }
   ],
   "source": [
    "model.summary()"
   ]
  },
  {
   "cell_type": "code",
   "execution_count": 43,
   "id": "8620406a",
   "metadata": {},
   "outputs": [
    {
     "data": {
      "image/png": "[encoded data removed]",
      "text/plain": [
       "<IPython.core.display.Image object>"
      ]
     },
     "execution_count": 43,
     "metadata": {},
     "output_type": "execute_result"
    }
   ],
   "source": [
    "#to plot the model\n",
    "tf.keras.utils.plot_model(model, \"LSTM.png\", show_shapes=True)"
   ]
  },
  {
   "cell_type": "code",
   "execution_count": 44,
   "id": "bf20b0ce",
   "metadata": {
    "_cell_guid": "7ff1a968-8731-447d-8b4f-87ab12076789",
    "_uuid": "2db325c7471f31d6afede417b2445b8dfe17c8de",
    "scrolled": true
   },
   "outputs": [
    {
     "name": "stdout",
     "output_type": "stream",
     "text": [
      "Epoch 1/10\n",
      "1173/1173 [==============================] - 200s 166ms/step - loss: 0.2889 - acc: 0.8811 - val_loss: 0.2309 - val_acc: 0.9095\n",
      "Epoch 2/10\n",
      "1173/1173 [==============================] - 182s 155ms/step - loss: 0.1976 - acc: 0.9231 - val_loss: 0.2120 - val_acc: 0.9218\n",
      "Epoch 3/10\n",
      "1173/1173 [==============================] - 186s 159ms/step - loss: 0.1564 - acc: 0.9409 - val_loss: 0.2042 - val_acc: 0.9239\n",
      "Epoch 4/10\n",
      "1173/1173 [==============================] - 191s 163ms/step - loss: 0.1305 - acc: 0.9509 - val_loss: 0.2104 - val_acc: 0.9241\n",
      "Epoch 5/10\n",
      "1173/1173 [==============================] - 189s 161ms/step - loss: 0.1116 - acc: 0.9582 - val_loss: 0.2139 - val_acc: 0.9326\n",
      "Epoch 6/10\n",
      "1173/1173 [==============================] - ETA: 0s - loss: 0.0970 - acc: 0.9640Restoring model weights from the end of the best epoch: 3.\n",
      "1173/1173 [==============================] - 182s 155ms/step - loss: 0.0970 - acc: 0.9640 - val_loss: 0.2164 - val_acc: 0.9326\n",
      "Epoch 6: early stopping\n"
     ]
    }
   ],
   "source": [
    "reg_history = model.fit(x_train, y_train, validation_split=0.1,epochs=10, batch_size=128, callbacks =[earlystopping], verbose=1)"
   ]
  },
  {
   "cell_type": "code",
   "execution_count": 45,
   "id": "6d0479c6",
   "metadata": {},
   "outputs": [
    {
     "name": "stdout",
     "output_type": "stream",
     "text": [
      "INFO:tensorflow:Assets written to: lstm1\\assets\n"
     ]
    }
   ],
   "source": [
    "#saving the model\n",
    "model.save('lstm1')"
   ]
  },
  {
   "cell_type": "code",
   "execution_count": 46,
   "id": "d4dbf8c4",
   "metadata": {},
   "outputs": [],
   "source": [
    "# Loading the model from saved location\n",
    "model = keras.models.load_model('lstm1')"
   ]
  },
  {
   "cell_type": "code",
   "execution_count": 47,
   "id": "e184dcd7",
   "metadata": {
    "_cell_guid": "43422514-af67-4064-ae7f-f327d920deba",
    "_uuid": "1e7412f53e5f23d0be1e822764e989e17a1f20b8"
   },
   "outputs": [
    {
     "name": "stdout",
     "output_type": "stream",
     "text": [
      "1303/1303 [==============================] - 12s 9ms/step\n",
      "test auc: 0.9720282865804767\n"
     ]
    }
   ],
   "source": [
    "output_test = model.predict(x_test)\n",
    "print(\"test auc:\", roc_auc_score(y_test,output_test[:]))"
   ]
  },
  {
   "cell_type": "code",
   "execution_count": 48,
   "id": "87e393d3",
   "metadata": {
    "scrolled": true
   },
   "outputs": [
    {
     "name": "stdout",
     "output_type": "stream",
     "text": [
      "1303/1303 [==============================] - 12s 9ms/step - loss: 0.2119 - acc: 0.9198\n",
      "\n",
      "Test loss: 0.21185317635536194\n",
      "Test accuracy: 0.9197561740875244\n"
     ]
    }
   ],
   "source": [
    "test_scores = model.evaluate(x_test, y_test, verbose=1)\n",
    "print(\"\\nTest loss:\", test_scores[0])\n",
    "print(\"Test accuracy:\", test_scores[1])"
   ]
  },
  {
   "cell_type": "code",
   "execution_count": 49,
   "id": "8efac119",
   "metadata": {},
   "outputs": [
    {
     "name": "stdout",
     "output_type": "stream",
     "text": [
      "Train accuracy is : 0.9639512300491333\n",
      "Train loss is : 0.09700712561607361\n",
      "validation accuracy is : 0.932629406452179\n",
      "Validation loss  is : 0.21643786132335663\n"
     ]
    }
   ],
   "source": [
    "print(\"Train accuracy is :\",reg_history.history['acc'][-1])\n",
    "print(\"Train loss is :\",reg_history.history['loss'][-1])\n",
    "print(\"validation accuracy is :\",reg_history.history['val_acc'][-1])\n",
    "print(\"Validation loss  is :\",reg_history.history['val_loss'][-1])"
   ]
  },
  {
   "cell_type": "code",
   "execution_count": 50,
   "id": "0db1acd1",
   "metadata": {},
   "outputs": [
    {
     "data": {
      "text/plain": [
       "array([[16202,  1500],\n",
       "       [ 1844, 22127]], dtype=int64)"
      ]
     },
     "execution_count": 50,
     "metadata": {},
     "output_type": "execute_result"
    }
   ],
   "source": [
    "# Confusion Matrix for test\n",
    "p_test = [1 if i>.5 else 0 for i in output_test[:]]\n",
    "cm_test = confusion_matrix(y_test,p_test)\n",
    "cm_test"
   ]
  },
  {
   "cell_type": "code",
   "execution_count": 51,
   "id": "a4c43e94",
   "metadata": {},
   "outputs": [
    {
     "data": {
      "text/plain": [
       "Text(33.0, 0.5, 'Actual')"
      ]
     },
     "execution_count": 51,
     "metadata": {},
     "output_type": "execute_result"
    },
    {
     "data": {
      "image/png": "[encoded data removed]",
      "text/plain": [
       "<Figure size 432x288 with 2 Axes>"
      ]
     },
     "metadata": {
      "needs_background": "light"
     },
     "output_type": "display_data"
    }
   ],
   "source": [
    "# Visualising Confusion matrix using heatmap form seaborn\n",
    "ax = sns.heatmap(cm_test,annot=True,xticklabels=['Satisfied','Unsatisfied'],yticklabels=['Satisfied','Unsatisfied'],fmt='g')\n",
    "ax.set_xlabel('Prediction')\n",
    "ax.set_ylabel('Actual')"
   ]
  },
  {
   "cell_type": "code",
   "execution_count": 52,
   "id": "9fd72ada",
   "metadata": {},
   "outputs": [
    {
     "name": "stdout",
     "output_type": "stream",
     "text": [
      "Test F1 score is :  0.9297449472666918\n"
     ]
    }
   ],
   "source": [
    "p_test = [1 if i>.5 else 0 for i in output_test[:]]\n",
    "print(\"Test F1 score is : \", f1_score(y_test,p_test))"
   ]
  },
  {
   "cell_type": "code",
   "execution_count": 54,
   "id": "efe50867",
   "metadata": {},
   "outputs": [
    {
     "data": {
      "image/png": "[encoded data removed]",
      "text/plain": [
       "<Figure size 432x288 with 1 Axes>"
      ]
     },
     "metadata": {
      "needs_background": "light"
     },
     "output_type": "display_data"
    }
   ],
   "source": [
    "plt.plot(reg_history.history['acc'])\n",
    "plt.plot(reg_history.history['val_acc'])\n",
    "plt.title('Train History')\n",
    "plt.ylabel('accuracy')\n",
    "plt.xlabel('Epoch')\n",
    "plt.legend(['train', 'validation'], loc='upper left')\n",
    "plt.show()"
   ]
  },
  {
   "cell_type": "markdown",
   "id": "7c3a9439",
   "metadata": {},
   "source": [
    "  "
   ]
  },
  {
   "cell_type": "markdown",
   "id": "bdf14883",
   "metadata": {},
   "source": [
    "## A more complex model : CNN - LSTM"
   ]
  },
  {
   "cell_type": "code",
   "execution_count": 55,
   "id": "7ada501b",
   "metadata": {},
   "outputs": [],
   "source": [
    "# Using Functional API\n",
    "# input: a sequence of MAX_SEQUENCE_LENGTH integers\n",
    "sequence_input = Input(shape=(MAX_SEQUENCE_LENGTH,), dtype='int32')\n",
    "embedding_layer = Embedding(MAX_NB_WORDS, EMBEDDING_DIM,\n",
    "                            input_length=MAX_SEQUENCE_LENGTH,\n",
    "                            trainable=True)\n",
    "embedded_sequences = embedding_layer(sequence_input)\n",
    "\n",
    "# 1D convolution with 50 output channels\n",
    "x = Conv1D(50, 5)(embedded_sequences)\n",
    "x = Dropout(0.2)(x)\n",
    "# LSTM layer with a hidden size of 64\n",
    "x = LSTM(50, dropout=0.2, recurrent_dropout=0.2)(x)\n",
    "predictions = Dense(1, activation='sigmoid')(x)\n",
    "\n",
    "model = Model(sequence_input, predictions)\n",
    "model.compile(loss='binary_crossentropy',\n",
    "              optimizer='adam',\n",
    "              metrics=['acc'])"
   ]
  },
  {
   "cell_type": "code",
   "execution_count": 56,
   "id": "d9613296",
   "metadata": {
    "scrolled": true
   },
   "outputs": [
    {
     "name": "stdout",
     "output_type": "stream",
     "text": [
      "Model: \"model_2\"\n",
      "_________________________________________________________________\n",
      " Layer (type)                Output Shape              Param #   \n",
      "=================================================================\n",
      " input_3 (InputLayer)        [(None, 50)]              0         \n",
      "                                                                 \n",
      " embedding_2 (Embedding)     (None, 50, 100)           4000000   \n",
      "                                                                 \n",
      " conv1d (Conv1D)             (None, 46, 50)            25050     \n",
      "                                                                 \n",
      " dropout (Dropout)           (None, 46, 50)            0         \n",
      "                                                                 \n",
      " lstm_1 (LSTM)               (None, 50)                20200     \n",
      "                                                                 \n",
      " dense_2 (Dense)             (None, 1)                 51        \n",
      "                                                                 \n",
      "=================================================================\n",
      "Total params: 4,045,301\n",
      "Trainable params: 4,045,301\n",
      "Non-trainable params: 0\n",
      "_________________________________________________________________\n"
     ]
    }
   ],
   "source": [
    "model.summary()"
   ]
  },
  {
   "cell_type": "code",
   "execution_count": 57,
   "id": "c3627f23",
   "metadata": {
    "scrolled": true
   },
   "outputs": [
    {
     "data": {
      "image/png": "[encoded data removed]",
      "text/plain": [
       "<IPython.core.display.Image object>"
      ]
     },
     "execution_count": 57,
     "metadata": {},
     "output_type": "execute_result"
    }
   ],
   "source": [
    "#to plot the model\n",
    "tf.keras.utils.plot_model(model, \"cnn_lstm.png\", show_shapes=True)"
   ]
  },
  {
   "cell_type": "code",
   "execution_count": 58,
   "id": "0598b2f6",
   "metadata": {},
   "outputs": [
    {
     "name": "stdout",
     "output_type": "stream",
     "text": [
      "Epoch 1/10\n",
      "1173/1173 [==============================] - 167s 138ms/step - loss: 0.2833 - acc: 0.8831 - val_loss: 0.2224 - val_acc: 0.9143\n",
      "Epoch 2/10\n",
      "1173/1173 [==============================] - 160s 137ms/step - loss: 0.1834 - acc: 0.9309 - val_loss: 0.2076 - val_acc: 0.9189\n",
      "Epoch 3/10\n",
      "1173/1173 [==============================] - 160s 136ms/step - loss: 0.1376 - acc: 0.9497 - val_loss: 0.2047 - val_acc: 0.9296\n",
      "Epoch 4/10\n",
      "1173/1173 [==============================] - 160s 136ms/step - loss: 0.1034 - acc: 0.9627 - val_loss: 0.2157 - val_acc: 0.9315\n",
      "Epoch 5/10\n",
      "1173/1173 [==============================] - 154s 131ms/step - loss: 0.0838 - acc: 0.9698 - val_loss: 0.2266 - val_acc: 0.9350\n",
      "Epoch 6/10\n",
      "1173/1173 [==============================] - ETA: 0s - loss: 0.0707 - acc: 0.9746Restoring model weights from the end of the best epoch: 3.\n",
      "1173/1173 [==============================] - 155s 132ms/step - loss: 0.0707 - acc: 0.9746 - val_loss: 0.2294 - val_acc: 0.9369\n",
      "Epoch 6: early stopping\n"
     ]
    }
   ],
   "source": [
    "reg_history = model.fit(x_train, y_train, validation_split=0.1,epochs=10, batch_size=128, callbacks =[earlystopping], verbose=1)"
   ]
  },
  {
   "cell_type": "code",
   "execution_count": 59,
   "id": "20656c73",
   "metadata": {},
   "outputs": [
    {
     "name": "stderr",
     "output_type": "stream",
     "text": [
      "WARNING:absl:Found untraced functions such as _jit_compiled_convolution_op while saving (showing 1 of 1). These functions will not be directly callable after loading.\n"
     ]
    },
    {
     "name": "stdout",
     "output_type": "stream",
     "text": [
      "INFO:tensorflow:Assets written to: cnn_lstm\\assets\n"
     ]
    },
    {
     "name": "stderr",
     "output_type": "stream",
     "text": [
      "INFO:tensorflow:Assets written to: cnn_lstm\\assets\n"
     ]
    }
   ],
   "source": [
    "#saving the model\n",
    "model.save('cnn_lstm')"
   ]
  },
  {
   "cell_type": "code",
   "execution_count": 60,
   "id": "bed43b43",
   "metadata": {},
   "outputs": [],
   "source": [
    "# Loading the model from saved location\n",
    "model = keras.models.load_model('cnn_lstm')"
   ]
  },
  {
   "cell_type": "code",
   "execution_count": 61,
   "id": "cb36dbc7",
   "metadata": {},
   "outputs": [
    {
     "name": "stdout",
     "output_type": "stream",
     "text": [
      "1303/1303 [==============================] - 13s 10ms/step\n",
      "test auc: 0.9732230476247565\n"
     ]
    }
   ],
   "source": [
    "output_test = model.predict(x_test)\n",
    "print(\"test auc:\", roc_auc_score(y_test,output_test[:]))"
   ]
  },
  {
   "cell_type": "code",
   "execution_count": 62,
   "id": "227b24c6",
   "metadata": {
    "scrolled": true
   },
   "outputs": [
    {
     "name": "stdout",
     "output_type": "stream",
     "text": [
      "1303/1303 [==============================] - 13s 9ms/step - loss: 0.2130 - acc: 0.9256\n",
      "\n",
      "Test loss: 0.21299588680267334\n",
      "Test accuracy: 0.9255872964859009\n"
     ]
    }
   ],
   "source": [
    "test_scores = model.evaluate(x_test, y_test, verbose=1)\n",
    "print(\"\\nTest loss:\", test_scores[0])\n",
    "print(\"Test accuracy:\", test_scores[1])"
   ]
  },
  {
   "cell_type": "code",
   "execution_count": 63,
   "id": "331e6607",
   "metadata": {},
   "outputs": [
    {
     "name": "stdout",
     "output_type": "stream",
     "text": [
      "Train accuracy is : 0.9745965600013733\n",
      "Train loss is : 0.07072517275810242\n",
      "validation accuracy is : 0.9368888139724731\n",
      "Validation loss  is : 0.2293844372034073\n"
     ]
    }
   ],
   "source": [
    "print(\"Train accuracy is :\",reg_history.history['acc'][-1])\n",
    "print(\"Train loss is :\",reg_history.history['loss'][-1])\n",
    "print(\"validation accuracy is :\",reg_history.history['val_acc'][-1])\n",
    "print(\"Validation loss  is :\",reg_history.history['val_loss'][-1])"
   ]
  },
  {
   "cell_type": "code",
   "execution_count": 64,
   "id": "2b18b95b",
   "metadata": {},
   "outputs": [
    {
     "data": {
      "text/plain": [
       "array([[16292,  1410],\n",
       "       [ 1691, 22280]], dtype=int64)"
      ]
     },
     "execution_count": 64,
     "metadata": {},
     "output_type": "execute_result"
    }
   ],
   "source": [
    "# Confusion Matrix for test\n",
    "p_test = [1 if i>.5 else 0 for i in output_test[:]]\n",
    "cm_test = confusion_matrix(y_test,p_test)\n",
    "cm_test"
   ]
  },
  {
   "cell_type": "code",
   "execution_count": 65,
   "id": "cb9c3d96",
   "metadata": {},
   "outputs": [
    {
     "data": {
      "text/plain": [
       "Text(33.0, 0.5, 'Actual')"
      ]
     },
     "execution_count": 65,
     "metadata": {},
     "output_type": "execute_result"
    },
    {
     "data": {
      "image/png": "[encoded data removed]",
      "text/plain": [
       "<Figure size 432x288 with 2 Axes>"
      ]
     },
     "metadata": {
      "needs_background": "light"
     },
     "output_type": "display_data"
    }
   ],
   "source": [
    "# Visualising Confusion matrix using heatmap form seaborn\n",
    "ax = sns.heatmap(cm_test,annot=True,xticklabels=['Satisfied','Unsatisfied'],yticklabels=['Satisfied','Unsatisfied'],fmt='g')\n",
    "ax.set_xlabel('Prediction')\n",
    "ax.set_ylabel('Actual')"
   ]
  },
  {
   "cell_type": "code",
   "execution_count": 66,
   "id": "04b209e7",
   "metadata": {},
   "outputs": [
    {
     "name": "stdout",
     "output_type": "stream",
     "text": [
      "Test F1 score is :  0.9349363211011098\n"
     ]
    }
   ],
   "source": [
    "p_test = [1 if i>.5 else 0 for i in output_test[:]]\n",
    "print(\"Test F1 score is : \", f1_score(y_test,p_test))"
   ]
  },
  {
   "cell_type": "code",
   "execution_count": 68,
   "id": "3d6be064",
   "metadata": {},
   "outputs": [
    {
     "data": {
      "image/png": "[encoded data removed]",
      "text/plain": [
       "<Figure size 432x288 with 1 Axes>"
      ]
     },
     "metadata": {
      "needs_background": "light"
     },
     "output_type": "display_data"
    }
   ],
   "source": [
    "plt.plot(reg_history.history['acc'])\n",
    "plt.plot(reg_history.history['val_acc'])\n",
    "plt.title('Train History')\n",
    "plt.ylabel('accuracy')\n",
    "plt.xlabel('Epoch')\n",
    "plt.legend(['train', 'validation'], loc='upper left')\n",
    "plt.show()"
   ]
  },
  {
   "cell_type": "markdown",
   "id": "5aef5ed3",
   "metadata": {},
   "source": [
    "## Applying Word2Vec on CNN - LSTM Network"
   ]
  },
  {
   "cell_type": "code",
   "execution_count": 69,
   "id": "d8065b52",
   "metadata": {},
   "outputs": [],
   "source": [
    "W2V_GoogleNews = gensim.models.KeyedVectors.load_word2vec_format('GoogleNews-vectors-negative300.bin',\\\n",
    "                                                                 binary=True)"
   ]
  },
  {
   "cell_type": "code",
   "execution_count": 70,
   "id": "4de47a1c",
   "metadata": {},
   "outputs": [],
   "source": [
    "# create a weight matrix for words in training docs\n",
    "embedding_matrix = zeros((MAX_NB_WORDS, 300))\n",
    "for word, i in word_index.items():\n",
    "    try:\n",
    "        # update embedding matrix using Google's pretrained model\n",
    "        embedding_vector = W2V_GoogleNews.get_vector(word, norm=True)\n",
    "        embedding_matrix[i] = embedding_vector\n",
    "    except:\n",
    "        # when word isn't found in pretrained model, we keep the embedding matrix unchanged at that index (assigned to zero)\n",
    "        pass"
   ]
  },
  {
   "cell_type": "code",
   "execution_count": 71,
   "id": "25e9aa81",
   "metadata": {},
   "outputs": [],
   "source": [
    "# Using Functional API\n",
    "# input: a sequence of MAX_SEQUENCE_LENGTH integers\n",
    "sequence_input = Input(shape=(MAX_SEQUENCE_LENGTH,), dtype='int32')\n",
    "embedding_layer = Embedding(MAX_NB_WORDS, output_dim=300,\\\n",
    "                            input_length=MAX_SEQUENCE_LENGTH,\\\n",
    "                            trainable=True, weights=[embedding_matrix])\n",
    "embedded_sequences = embedding_layer(sequence_input)\n",
    "\n",
    "# 1D convolution with 50 output channels\n",
    "x = Conv1D(50, 5)(embedded_sequences)\n",
    "x = Dropout(0.2)(x)\n",
    "# 50 LSTM units\n",
    "x = LSTM(50, dropout=0.2, recurrent_dropout=0.2)(x)\n",
    "predictions = Dense(1, activation='sigmoid')(x)\n",
    "\n",
    "model = Model(sequence_input, predictions)\n",
    "model.compile(loss='binary_crossentropy',\n",
    "              optimizer='adam',\n",
    "              metrics=['acc'])"
   ]
  },
  {
   "cell_type": "code",
   "execution_count": 72,
   "id": "df9ef3c5",
   "metadata": {},
   "outputs": [
    {
     "name": "stdout",
     "output_type": "stream",
     "text": [
      "Model: \"model_3\"\n",
      "_________________________________________________________________\n",
      " Layer (type)                Output Shape              Param #   \n",
      "=================================================================\n",
      " input_4 (InputLayer)        [(None, 50)]              0         \n",
      "                                                                 \n",
      " embedding_3 (Embedding)     (None, 50, 300)           12000000  \n",
      "                                                                 \n",
      " conv1d_1 (Conv1D)           (None, 46, 50)            75050     \n",
      "                                                                 \n",
      " dropout_1 (Dropout)         (None, 46, 50)            0         \n",
      "                                                                 \n",
      " lstm_2 (LSTM)               (None, 50)                20200     \n",
      "                                                                 \n",
      " dense_3 (Dense)             (None, 1)                 51        \n",
      "                                                                 \n",
      "=================================================================\n",
      "Total params: 12,095,301\n",
      "Trainable params: 12,095,301\n",
      "Non-trainable params: 0\n",
      "_________________________________________________________________\n"
     ]
    }
   ],
   "source": [
    "model.summary()"
   ]
  },
  {
   "cell_type": "code",
   "execution_count": 73,
   "id": "56b55b6c",
   "metadata": {
    "scrolled": true
   },
   "outputs": [
    {
     "data": {
      "image/png": "[encoded data removed]",
      "text/plain": [
       "<IPython.core.display.Image object>"
      ]
     },
     "execution_count": 73,
     "metadata": {},
     "output_type": "execute_result"
    }
   ],
   "source": [
    "#to plot the model\n",
    "tf.keras.utils.plot_model(model, \"cnn_lstm_w2v.png\", show_shapes=True)"
   ]
  },
  {
   "cell_type": "code",
   "execution_count": 74,
   "id": "d67150ff",
   "metadata": {},
   "outputs": [
    {
     "name": "stdout",
     "output_type": "stream",
     "text": [
      "Epoch 1/10\n",
      "1173/1173 [==============================] - 310s 258ms/step - loss: 0.2701 - acc: 0.8895 - val_loss: 0.2181 - val_acc: 0.9162\n",
      "Epoch 2/10\n",
      "1173/1173 [==============================] - 297s 254ms/step - loss: 0.1687 - acc: 0.9359 - val_loss: 0.1884 - val_acc: 0.9317\n",
      "Epoch 3/10\n",
      "1173/1173 [==============================] - 291s 248ms/step - loss: 0.1143 - acc: 0.9586 - val_loss: 0.1968 - val_acc: 0.9334\n",
      "Epoch 4/10\n",
      "1173/1173 [==============================] - 290s 248ms/step - loss: 0.0859 - acc: 0.9686 - val_loss: 0.2193 - val_acc: 0.9333\n",
      "Epoch 5/10\n",
      "1173/1173 [==============================] - ETA: 0s - loss: 0.0678 - acc: 0.9756Restoring model weights from the end of the best epoch: 2.\n",
      "1173/1173 [==============================] - 296s 253ms/step - loss: 0.0678 - acc: 0.9756 - val_loss: 0.2342 - val_acc: 0.9375\n",
      "Epoch 5: early stopping\n"
     ]
    }
   ],
   "source": [
    "reg_history = model.fit(x_train, y_train, validation_split=0.1,epochs=10, batch_size=128, callbacks =[earlystopping], verbose=1)"
   ]
  },
  {
   "cell_type": "code",
   "execution_count": 75,
   "id": "62a6de1d",
   "metadata": {},
   "outputs": [
    {
     "name": "stderr",
     "output_type": "stream",
     "text": [
      "WARNING:absl:Found untraced functions such as _jit_compiled_convolution_op while saving (showing 1 of 1). These functions will not be directly callable after loading.\n"
     ]
    },
    {
     "name": "stdout",
     "output_type": "stream",
     "text": [
      "INFO:tensorflow:Assets written to: cnn_lstm_w2v\\assets\n"
     ]
    },
    {
     "name": "stderr",
     "output_type": "stream",
     "text": [
      "INFO:tensorflow:Assets written to: cnn_lstm_w2v\\assets\n"
     ]
    }
   ],
   "source": [
    "#saving the model\n",
    "model.save('cnn_lstm_w2v')"
   ]
  },
  {
   "cell_type": "code",
   "execution_count": 76,
   "id": "1804aa0c",
   "metadata": {},
   "outputs": [],
   "source": [
    "# Loading the model from saved location\n",
    "model = keras.models.load_model('cnn_lstm_w2v')"
   ]
  },
  {
   "cell_type": "code",
   "execution_count": 77,
   "id": "1b700553",
   "metadata": {},
   "outputs": [
    {
     "name": "stdout",
     "output_type": "stream",
     "text": [
      "1303/1303 [==============================] - 15s 11ms/step\n",
      "test auc: 0.9749109595440478\n"
     ]
    }
   ],
   "source": [
    "output_test = model.predict(x_test)\n",
    "print(\"test auc:\", roc_auc_score(y_test,output_test[:]))"
   ]
  },
  {
   "cell_type": "code",
   "execution_count": 78,
   "id": "1ceef34e",
   "metadata": {
    "scrolled": true
   },
   "outputs": [
    {
     "name": "stdout",
     "output_type": "stream",
     "text": [
      "1303/1303 [==============================] - 15s 11ms/step - loss: 0.1992 - acc: 0.9274\n",
      "\n",
      "Test loss: 0.1992262750864029\n",
      "Test accuracy: 0.9274110198020935\n"
     ]
    }
   ],
   "source": [
    "test_scores = model.evaluate(x_test, y_test, verbose=1)\n",
    "print(\"\\nTest loss:\", test_scores[0])\n",
    "print(\"Test accuracy:\", test_scores[1])"
   ]
  },
  {
   "cell_type": "code",
   "execution_count": 79,
   "id": "ba1a6002",
   "metadata": {},
   "outputs": [
    {
     "name": "stdout",
     "output_type": "stream",
     "text": [
      "Train accuracy is : 0.9755564332008362\n",
      "Train loss is : 0.0677701085805893\n",
      "validation accuracy is : 0.9375487565994263\n",
      "Validation loss  is : 0.23415765166282654\n"
     ]
    }
   ],
   "source": [
    "print(\"Train accuracy is :\",reg_history.history['acc'][-1])\n",
    "print(\"Train loss is :\",reg_history.history['loss'][-1])\n",
    "print(\"validation accuracy is :\",reg_history.history['val_acc'][-1])\n",
    "print(\"Validation loss  is :\",reg_history.history['val_loss'][-1])"
   ]
  },
  {
   "cell_type": "code",
   "execution_count": 80,
   "id": "c4d8bdc7",
   "metadata": {},
   "outputs": [
    {
     "data": {
      "text/plain": [
       "array([[16444,  1258],\n",
       "       [ 1767, 22204]], dtype=int64)"
      ]
     },
     "execution_count": 80,
     "metadata": {},
     "output_type": "execute_result"
    }
   ],
   "source": [
    "# Confusion Matrix for test\n",
    "p_test = [1 if i>.5 else 0 for i in output_test[:]]\n",
    "cm_test = confusion_matrix(y_test,p_test)\n",
    "cm_test"
   ]
  },
  {
   "cell_type": "code",
   "execution_count": 81,
   "id": "57491b2a",
   "metadata": {},
   "outputs": [
    {
     "data": {
      "text/plain": [
       "Text(33.0, 0.5, 'Actual')"
      ]
     },
     "execution_count": 81,
     "metadata": {},
     "output_type": "execute_result"
    },
    {
     "data": {
      "image/png": "[encoded data removed]",
      "text/plain": [
       "<Figure size 432x288 with 2 Axes>"
      ]
     },
     "metadata": {
      "needs_background": "light"
     },
     "output_type": "display_data"
    }
   ],
   "source": [
    "# Visualising Confusion matrix using heatmap form seaborn\n",
    "ax = sns.heatmap(cm_test,annot=True,xticklabels=['Satisfied','Unsatisfied'],yticklabels=['Satisfied','Unsatisfied'],fmt='g')\n",
    "ax.set_xlabel('Prediction')\n",
    "ax.set_ylabel('Actual')"
   ]
  },
  {
   "cell_type": "code",
   "execution_count": 82,
   "id": "47f13f67",
   "metadata": {},
   "outputs": [
    {
     "name": "stdout",
     "output_type": "stream",
     "text": [
      "Test F1 score is :  0.9362258343347457\n"
     ]
    }
   ],
   "source": [
    "p_test = [1 if i>.5 else 0 for i in output_test[:]]\n",
    "print(\"Test F1 score is : \", f1_score(y_test,p_test))"
   ]
  },
  {
   "cell_type": "code",
   "execution_count": 84,
   "id": "85571fc7",
   "metadata": {},
   "outputs": [
    {
     "data": {
      "image/png": "[encoded data removed]",
      "text/plain": [
       "<Figure size 432x288 with 1 Axes>"
      ]
     },
     "metadata": {
      "needs_background": "light"
     },
     "output_type": "display_data"
    }
   ],
   "source": [
    "plt.plot(reg_history.history['acc'])\n",
    "plt.plot(reg_history.history['val_acc'])\n",
    "plt.title('Train History')\n",
    "plt.ylabel('accuracy')\n",
    "plt.xlabel('Epoch')\n",
    "plt.legend(['train', 'validation'], loc='upper left')\n",
    "plt.show()"
   ]
  },
  {
   "cell_type": "markdown",
   "id": "b7d244d6",
   "metadata": {},
   "source": [
    "# Predict whether a user is Satisfied or Not based on the User inputed review"
   ]
  },
  {
   "cell_type": "code",
   "execution_count": 85,
   "id": "727bf47d",
   "metadata": {},
   "outputs": [],
   "source": [
    "model = keras.models.load_model('cnn_lstm_w2v')"
   ]
  },
  {
   "cell_type": "code",
   "execution_count": 98,
   "id": "fbdc5318",
   "metadata": {
    "scrolled": true
   },
   "outputs": [
    {
     "name": "stdout",
     "output_type": "stream",
     "text": [
      "Enter the review : good product.. cheap\n"
     ]
    }
   ],
   "source": [
    "review = input(\"Enter the review : \")"
   ]
  },
  {
   "cell_type": "code",
   "execution_count": 99,
   "id": "9107e009",
   "metadata": {},
   "outputs": [],
   "source": [
    "def predict_emotion(review):\n",
    "    sequence = tokenizer.texts_to_sequences([review])\n",
    "    padded_sequence = pad_sequences(sequence, maxlen=50)\n",
    "    output = model.predict(padded_sequence,verbose=0)\n",
    "    if (output[0][0] > 0.5):\n",
    "        return 0\n",
    "    else :\n",
    "        return 1"
   ]
  },
  {
   "cell_type": "code",
   "execution_count": 100,
   "id": "1f0bd8c5",
   "metadata": {},
   "outputs": [
    {
     "name": "stdout",
     "output_type": "stream",
     "text": [
      "Customer is satisfied\n"
     ]
    }
   ],
   "source": [
    "if (predict_emotion(review)):\n",
    "    print(\"Customer is not satisfied\")\n",
    "else:\n",
    "    print(\"Customer is satisfied\")"
   ]
  },
  {
   "cell_type": "markdown",
   "id": "cfc7cc5c",
   "metadata": {},
   "source": [
    "# Comparison between models"
   ]
  },
  {
   "attachments": {
    "image.png": {
     "image/png": "[encoded data removed]"
    }
   },
   "cell_type": "markdown",
   "id": "0b4cd73b",
   "metadata": {},
   "source": [
    "![image.png](attachment:image.png)"
   ]
  },
  {
   "cell_type": "markdown",
   "id": "25157b11",
   "metadata": {},
   "source": [
    "# Conclusion\n",
    "\n",
    "Using CNN-LSTM model is the best approach to do sentiment anaysis."
   ]
  },
  {
   "cell_type": "markdown",
   "id": "22362a81",
   "metadata": {},
   "source": [
    "### Performance of CNN-LSTM:\n",
    "    Train accuracy is : 0.9755564332008362\n",
    "    Train loss is : 0.0677701085805893\n",
    "    validation accuracy is : 0.9375487565994263\n",
    "    Validation loss  is : 0.23415765166282654\n",
    "    test auc: 0.9749109595440478\n",
    "    Test loss: 0.1992262750864029\n",
    "    Test accuracy: 0.9274110198020935\n",
    "    Test F1 score is :  0.9362258343347457"
   ]
  },
  {
   "cell_type": "markdown",
   "id": "2e6efb6b",
   "metadata": {},
   "source": [
    "## Repository"
   ]
  },
  {
   "cell_type": "markdown",
   "id": "fad21f47",
   "metadata": {},
   "source": [
    "https://www.kaggle.com/code/eliotbarr/text-classification-using-neural-networks/data?select=GrammarandProductReviews.csv"
   ]
  },
  {
   "cell_type": "markdown",
   "id": "3d83bfde",
   "metadata": {},
   "source": [
    "## References"
   ]
  },
  {
   "cell_type": "markdown",
   "id": "e3d1514d",
   "metadata": {},
   "source": [
    "i) Samira Zad, Maryam Heidari, James H Jr Jones, Ozlem Uzuner, \"Emotion Detection of Textual Data: An Interdisciplinary Survey\" 978-1-6654-3568-0/21/31.00©2021 IEEE 0255\n",
    " \n",
    "ii) Sepideh Saeedi Majd, Habiblzadkhah, Shahriar Lotfi, \"Detectionof Multiple Emotionsin Texts Using LongShort-Term Memory Recurrent Neural Networks\" 978 -1-6654-6626-4/22/ 31.00 ©2022 IEEE.\n",
    "\n",
    "iii) https://www.kaggle.com/code/eliotbarr/text-classification-using-neural-networks \n",
    "\n",
    "iv) https://anandsarank.medium.com/cnn-with-Istm-for-text-classification-53d18e5f7f5c\n"
   ]
  }
 ],
 "metadata": {
  "kernelspec": {
   "display_name": "Python 3 (ipykernel)",
   "language": "python",
   "name": "python3"
  },
  "language_info": {
   "codemirror_mode": {
    "name": "ipython",
    "version": 3
   },
   "file_extension": ".py",
   "mimetype": "text/x-python",
   "name": "python",
   "nbconvert_exporter": "python",
   "pygments_lexer": "ipython3",
   "version": "3.9.13"
  }
 },
 "nbformat": 4,
 "nbformat_minor": 5
}
